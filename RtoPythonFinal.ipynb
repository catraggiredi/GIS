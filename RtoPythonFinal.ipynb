{
 "cells": [
  {
   "cell_type": "code",
   "execution_count": 1,
   "metadata": {
    "collapsed": true,
    "deletable": true,
    "editable": true
   },
   "outputs": [],
   "source": [
    "#Check if object poly_mat exists\n",
    "\n",
    "def check_poly(poly_mat):\n",
    "    if poly_mat:\n",
    "        return(poly_mat)\n",
    "    else:\n",
    "        print(\"No poly_mat object provided, creating object representing a 9 by 9 square\")\n",
    "        return([(0,0), (0,9),(9,9),(9,0),(0,0)])"
   ]
  },
  {
   "cell_type": "code",
   "execution_count": 2,
   "metadata": {
    "collapsed": false,
    "deletable": true,
    "editable": true
   },
   "outputs": [],
   "source": [
    "#Step 1 \n",
    "def make_triangles(poly_mat):\n",
    "    origin= poly_mat[0]\n",
    "\n",
    "    i = range(1, len(poly_mat)-2)\n",
    "\n",
    "    T_all=[]\n",
    "    for ob2 in i:\n",
    "        triangle = []\n",
    "        triangle.append(origin)\n",
    "        triangle.append(poly_mat[ob2])\n",
    "        triangle.append(poly_mat[ob2+1])\n",
    "        triangle.append(origin)\n",
    "        T_all.append(triangle)\n",
    "    return(T_all)"
   ]
  },
  {
   "cell_type": "code",
   "execution_count": 3,
   "metadata": {
    "collapsed": false,
    "deletable": true,
    "editable": true
   },
   "outputs": [],
   "source": [
    "#Step 2\n",
    "\n",
    "def find_triangle_centers(T_all):\n",
    "    c=[]\n",
    "    for triangle in T_all:\n",
    "        x = 0\n",
    "        y = 0\n",
    "        for coordinate in triangle:\n",
    "            x += coordinate[0]\n",
    "            y += coordinate[1]\n",
    "        C_list = ((x / 3), (y / 3))\n",
    "        c.append(C_list)\n",
    "    return(c)"
   ]
  },
  {
   "cell_type": "code",
   "execution_count": 4,
   "metadata": {
    "collapsed": false
   },
   "outputs": [],
   "source": [
    "#Step 3\n",
    "\n",
    "def find_ind_areas(T_all):\n",
    "    areas = []\n",
    "    for triangle in T_all:\n",
    "        v1 = triangle[0][0] * (triangle[1][1] - triangle[2][1])\n",
    "        v2 = triangle[1][0] * (triangle[2][1] - triangle[0][1])\n",
    "        v3 = triangle[2][0] * (triangle[0][1] - triangle[1][1])\n",
    "\n",
    "        areas.append(abs((v1 + v2 + v3) / 2))\n",
    "    return(areas)"
   ]
  },
  {
   "cell_type": "code",
   "execution_count": 5,
   "metadata": {
    "collapsed": false
   },
   "outputs": [],
   "source": [
    "#Step 4\n",
    "\n",
    "def find_centroid(c, areas):\n",
    "    poly_area = sum(areas)\n",
    "    print(\"The area is:\", poly_area)\n",
    "\n",
    "    #Finding weighted mean\n",
    "    final_x = 0\n",
    "    final_y = 0\n",
    "\n",
    "    for i in range(0, len(c)):\n",
    "        weighted_x = c[i][0] * areas[i] / poly_area\n",
    "        weighted_y = c[i][1] * areas[i] / poly_area\n",
    "\n",
    "        final_x += weighted_x\n",
    "        final_y += weighted_y\n",
    "\n",
    "    poly_centroid = [final_x, final_y]\n",
    "    return(poly_centroid)"
   ]
  },
  {
   "cell_type": "code",
   "execution_count": 6,
   "metadata": {
    "collapsed": false
   },
   "outputs": [],
   "source": [
    "#Step 5\n",
    "def round_centroid(poly_centroid):\n",
    "    rounded_x = round(poly_centroid[0], 2)\n",
    "    rounded_y = round(poly_centroid[1], 2)\n",
    "\n",
    "    print(\"The coordinates of the centroid are:(\", rounded_x, \",\", rounded_y, \")\")"
   ]
  },
  {
   "cell_type": "code",
   "execution_count": 7,
   "metadata": {
    "collapsed": false
   },
   "outputs": [],
   "source": [
    "def centroid_alg(poly_mat=False):\n",
    "    poly_mat = check_poly(poly_mat)\n",
    "    T_all = make_triangles(poly_mat)\n",
    "    c = find_triangle_centers(T_all)\n",
    "    areas = find_ind_areas(T_all)\n",
    "    poly_centroid = find_centroid(c, areas)\n",
    "    return(round_centroid(poly_centroid)) "
   ]
  },
  {
   "cell_type": "code",
   "execution_count": 8,
   "metadata": {
    "collapsed": false
   },
   "outputs": [
    {
     "name": "stdout",
     "output_type": "stream",
     "text": [
      "No poly_mat object provided, creating object representing a 9 by 9 square\n",
      "The area is: 81.0\n",
      "The coordinates of the centroid are:( 4.5 , 4.5 )\n"
     ]
    }
   ],
   "source": [
    "centroid_alg()"
   ]
  }
 ],
 "metadata": {
  "kernelspec": {
   "display_name": "Python 3",
   "language": "python",
   "name": "python3"
  },
  "language_info": {
   "codemirror_mode": {
    "name": "ipython",
    "version": 3
   },
   "file_extension": ".py",
   "mimetype": "text/x-python",
   "name": "python",
   "nbconvert_exporter": "python",
   "pygments_lexer": "ipython3",
   "version": "3.5.2"
  }
 },
 "nbformat": 4,
 "nbformat_minor": 2
}
